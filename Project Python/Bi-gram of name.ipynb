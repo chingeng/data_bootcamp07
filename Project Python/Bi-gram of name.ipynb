from google.colab import drive

drive.mount('/content/gdrive')

import pandas as pd
import numpy as np

df_excel = pd.read_excel('/content/gdrive/MyDrive/Data Master/Week 2/week02_workshop.xlsx')
freq = {}
for lab,row in df_excel.iterrows():
  df_excel.loc[lab,"name"] = row["ชื่อ"].lower()
for lab,row in df_excel.iterrows():
  df_excel.loc[lab,"sur"] = row["นามสกุล"].lower()
df_name = df_excel["name"]
df_sur = df_excel["sur"]
df_merge = [df_name,df_sur]
df_sum = pd.concat(df_merge)
df_sort = df_sum.sort_values()
df_sort = df_sort.reset_index(drop="True")

for i in df_sum:
  for x in i:
   if x in freq:
       freq[x]+=1
   else:
       freq[x]=1

max_f = max(freq, key=freq.get)
print("Max freq is " + str(max_f))
bigram = {}
for i in df_sum:
  for x in range(len(i)-1):
      bigram_str = i[x:x+2]
      if bigram_str in bigram.keys():
       bigram[bigram_str] = bigram[bigram_str] + 1
      else:
       bigram[bigram_str] = 1
print(bigram)
