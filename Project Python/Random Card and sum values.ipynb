## Create a desk of cards then random 2 of them and sum the values of that 2 cards 
## Jack = 11, Queen = 12, King = 13, Ace = 1
import random
dict1={"1":1,"2":2,"3":3,"4":4,"5":5,"6":6,"7":7,"8":8,"9":9,"10":10,"J":11,"Q":12,"K":13,"A":1}
list2=["spades","hearts","diamonds","clubs"]

x1=random.choice(list(dict1))
y1=random.choice(list2)
x2=random.choice(list(dict1))
y2=random.choice(list2)
while x1==x2 and y1==y2:
  x2=random.choice(list(dict1))
  y2=random.choice(list2)
else:
  print(x1,y1)
  print(x2,y2)
  print(dict1.get(x1)+dict1.get(x2))
