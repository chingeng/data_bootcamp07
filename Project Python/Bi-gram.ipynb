# A program that receives 10 digits input from a user and counts bi-gram from that number.

num=input("Input number: ")
numlist=[]
freq={}
while len(num)!=10 or not num.isdigit():
  print("Please input number 10 digits only")
  num=input("Input number: ")
else:
  for i in range(9):
    numlist.append(num[i:i+2])
  for x in numlist:
     if x in freq:
       freq[x]+=1
     else:
       freq[x]=1

print(freq)
